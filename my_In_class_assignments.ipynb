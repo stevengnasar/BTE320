{
  "nbformat": 4,
  "nbformat_minor": 0,
  "metadata": {
    "colab": {
      "provenance": [],
      "authorship_tag": "ABX9TyOIOorXjm2YESERU7j7WJwn",
      "include_colab_link": true
    },
    "kernelspec": {
      "name": "python3",
      "display_name": "Python 3"
    },
    "language_info": {
      "name": "python"
    }
  },
  "cells": [
    {
      "cell_type": "markdown",
      "metadata": {
        "id": "view-in-github",
        "colab_type": "text"
      },
      "source": [
        "<a href=\"https://colab.research.google.com/github/stevengnasar/BTE320/blob/main/my_In_class_assignments.ipynb\" target=\"_parent\"><img src=\"https://colab.research.google.com/assets/colab-badge.svg\" alt=\"Open In Colab\"/></a>"
      ]
    },
    {
      "cell_type": "code",
      "source": [
        "# income statement\n",
        "\n",
        "# Inputs: sales and cogs_pct\n",
        "sales = input(\"Enter sales ($): \")\n",
        "sales = float(sales)\n",
        "\n",
        "cogs_pct = input(\"Enter Cost of Goods Sold (%): \")\n",
        "cogs_pct = float(cogs_pct)\n",
        "\n",
        "tax_pct = input(\"Enter Tax Rate (%): \")\n",
        "tax_pct = float(tax_pct)\n",
        "\n",
        "# Processes: calculate actual cost of goods sold\n",
        "\n",
        "cogs = sales * cogs_pct / 100\n",
        "GP = sales - cogs\n",
        "tax = GP * tax_pct / 100\n",
        "NI = GP - tax\n",
        "\n",
        "#Outputs: display cogs and gp\n",
        "\n",
        "print(f\"Sales: ${sales}\\nCost of Goods Sold: ${cogs}\\nGross Profit: ${GP}\\nTaxes: ${tax}\\nNet Income: {NI}\")"
      ],
      "metadata": {
        "colab": {
          "base_uri": "https://localhost:8080/"
        },
        "id": "xx9CYkj-jhjT",
        "outputId": "d1e2150f-2e24-4a4e-dfe7-9f3f904a9b7f"
      },
      "execution_count": 15,
      "outputs": [
        {
          "output_type": "stream",
          "name": "stdout",
          "text": [
            "Enter sales ($): 12000\n",
            "Enter Cost of Goods Sold (%): 40\n",
            "Enter Tax Rate (%): 30\n",
            "Sales: $12000.0\n",
            "Cost of Goods Sold: $4800.0\n",
            "Gross Profit: $7200.0\n",
            "Taxes: $2160.0\n",
            "Net Income: 5040.0\n"
          ]
        }
      ]
    },
    {
      "cell_type": "code",
      "source": [
        "#income statement calc\n",
        "\n",
        "#inputs\n",
        "D = float(input(\"Enter annual demand (units/year: \"))\n",
        "S = float(input(\"Reorder cost ($/order): \"))\n",
        "H = float(input(\"Holding cost ($/unit/year): \"))\n",
        "\n",
        "#processes\n",
        "EOQ = (2 * D * S / H) ** 0.5\n",
        "\n",
        "#output\n",
        "print(f\"Economic Order Quantity: {EOQ}\")\n"
      ],
      "metadata": {
        "colab": {
          "base_uri": "https://localhost:8080/"
        },
        "id": "0HpwbfLvKVDs",
        "outputId": "0bf2d42b-e945-47e5-ee37-ceac4f2ebcbf"
      },
      "execution_count": 4,
      "outputs": [
        {
          "output_type": "stream",
          "name": "stdout",
          "text": [
            "Enter annual demand (units/year: 1200\n",
            "Reorder cost ($/order): 40\n",
            "Holding cost ($/unit/year): 3\n",
            "Economic Order Quantity: 178.88543819998318\n"
          ]
        }
      ]
    },
    {
      "cell_type": "code",
      "source": [
        "\n",
        "#numerical calculater\n",
        "\n",
        "#inputs\n",
        "one = float(input(\"Enter first number: \"))\n",
        "two = float(input(\"Enter second number: \"))\n",
        "func = str(input(\"Enter function: \"))\n",
        "\n",
        "#processes and output\n",
        "\n",
        "if func == \"add\" or func == \"+\":\n",
        "  print(one + two)\n",
        "elif func == \"subtract\" or func == \"-\":\n",
        "  print(one - two)\n",
        "elif func == \"multiply\" or func == \"x\" or func == \"*\":\n",
        "  print(one * two)\n",
        "elif func == \"divide\" or func == \"/\":\n",
        "  print(one / two)\n",
        "elif func == \"//\":\n",
        "  print(one // two)\n",
        "elif func == \"**\":\n",
        "  print(one ** two)\n",
        "elif func == \"%\":\n",
        "  print(one % two)\n",
        "else:\n",
        "  print(\"please input valid function\")\n"
      ],
      "metadata": {
        "colab": {
          "base_uri": "https://localhost:8080/"
        },
        "id": "fYxVLwRZL5mr",
        "outputId": "65fbb090-b4f4-4981-cc8e-b21a31b3a4c3"
      },
      "execution_count": 11,
      "outputs": [
        {
          "output_type": "stream",
          "name": "stdout",
          "text": [
            "Enter first number: 50\n",
            "Enter second number: 15\n",
            "Enter function: %\n",
            "5.0\n"
          ]
        }
      ]
    },
    {
      "cell_type": "code",
      "source": [
        "#parking garage\n",
        "\n",
        "print(\"Hours   Fee\")\n",
        "for hour in range(1,9):\n",
        "  fee = 5 + 2.5*(hour)\n",
        "  if fee < 10:\n",
        "    fee = 10.0\n",
        "  elif fee > 20:\n",
        "    fee = 20.0\n",
        "  print(f\"{hour}\\t{fee}\")\n",
        "\n",
        ""
      ],
      "metadata": {
        "colab": {
          "base_uri": "https://localhost:8080/"
        },
        "id": "1Ov-0UX9g8In",
        "outputId": "0d6dcad6-6376-4e0b-e2d4-7b9b22fa859b"
      },
      "execution_count": 3,
      "outputs": [
        {
          "output_type": "stream",
          "name": "stdout",
          "text": [
            "Hours   Fee\n",
            "1\t10.0\n",
            "2\t10.0\n",
            "3\t12.5\n",
            "4\t15.0\n",
            "5\t17.5\n",
            "6\t20.0\n",
            "7\t20.0\n",
            "8\t20.0\n"
          ]
        }
      ]
    },
    {
      "cell_type": "code",
      "source": [
        "#movie theater\n",
        "\n",
        "print('Ad$' , 'Profit')\n",
        "for adcost in range (0,201,25):\n",
        "  additional = 2 * round(adcost**0.5)\n",
        "  profit = (20 + additional) * 10 - 200 - adcost\n",
        "  print(adcost,profit)"
      ],
      "metadata": {
        "colab": {
          "base_uri": "https://localhost:8080/"
        },
        "id": "kbkUrI5Gsg6B",
        "outputId": "89a83885-f3e7-44b3-a004-4a97ae9f7d4c"
      },
      "execution_count": 1,
      "outputs": [
        {
          "output_type": "stream",
          "name": "stdout",
          "text": [
            "Ad$ Profit\n",
            "0 0\n",
            "25 75\n",
            "50 90\n",
            "75 105\n",
            "100 100\n",
            "125 95\n",
            "150 90\n",
            "175 85\n",
            "200 80\n"
          ]
        }
      ]
    },
    {
      "cell_type": "code",
      "source": [
        "#append items to list iteratively\n",
        "\n",
        "lst = []\n",
        "\n",
        "num = float(input('Please provide a number: '))\n",
        "\n",
        "while num != 0:\n",
        "  lst.append(num)\n",
        "  num = float(input('Please provide a number: '))\n",
        "\n",
        "lst.sort(reverse=True)\n",
        "print(lst)"
      ],
      "metadata": {
        "colab": {
          "base_uri": "https://localhost:8080/"
        },
        "id": "NfIpKup0geGn",
        "outputId": "cd396f66-b8a5-4ca2-9cfb-ac1c104b0822"
      },
      "execution_count": 2,
      "outputs": [
        {
          "output_type": "stream",
          "name": "stdout",
          "text": [
            "Please provide a number: 567\n",
            "Please provide a number: 342\n",
            "Please provide a number: 15\n",
            "Please provide a number: 19\n",
            "Please provide a number: 0\n",
            "[567.0, 342.0, 19.0, 15.0]\n"
          ]
        }
      ]
    },
    {
      "cell_type": "code",
      "source": [
        "#Rock Paper Scissors\n",
        "\n",
        "import random\n",
        "\n",
        "while True:\n",
        "\n",
        "  play = input('Do you want to play a game (y/n)? ').lower()\n",
        "\n",
        "  if play != 'y':\n",
        "     break\n",
        "\n",
        "  # RPS game here:\n",
        "  user_choice = input('Choose between rock, paper, scissors: ')\n",
        "  pc_choice = random.choice(['rock', 'paper', 'scissors'])\n",
        "  print(f'User choice: {user_choice}, Computer choice: {pc_choice}')\n",
        "\n",
        "  if user_choice == pc_choice:\n",
        "    print('Tie')\n",
        "  elif (\n",
        "      (user_choice == 'rock' and pc_choice == 'scissors') or\n",
        "      (user_choice == 'scissors' and pc_choice == 'paper') or\n",
        "      (user_choice == 'paper' and pc_choice == 'rock')\n",
        "      ):\n",
        "      print('User wins')\n",
        "  else:\n",
        "    print('Computer wins')\n",
        "\n"
      ],
      "metadata": {
        "colab": {
          "base_uri": "https://localhost:8080/"
        },
        "id": "USYOXJX7gkMw",
        "outputId": "8efb4189-4e82-4075-bedb-b3ef5b438cc3"
      },
      "execution_count": 4,
      "outputs": [
        {
          "name": "stdout",
          "output_type": "stream",
          "text": [
            "Do you want to play a game (y/n)? y\n",
            "Choose between rock, paper, scissors: scissors\n",
            "User choice: scissors, Computer choice: paper\n",
            "User wins\n",
            "Do you want to play a game (y/n)? y\n",
            "Choose between rock, paper, scissors: rock\n",
            "User choice: rock, Computer choice: scissors\n",
            "User wins\n",
            "Do you want to play a game (y/n)? y\n",
            "Choose between rock, paper, scissors: scissors\n",
            "User choice: scissors, Computer choice: rock\n",
            "Computer wins\n",
            "Do you want to play a game (y/n)? y\n",
            "Choose between rock, paper, scissors: paper\n",
            "User choice: paper, Computer choice: paper\n",
            "Tie\n",
            "Do you want to play a game (y/n)? n\n"
          ]
        }
      ]
    },
    {
      "cell_type": "code",
      "source": [
        "#product prices\n",
        "\n",
        "products = {\n",
        "    'P-01': 9.95,\n",
        "    'P-02': 10.50\n",
        "}\n",
        "\n",
        "product = input('Enter product ID:')\n",
        "\n",
        "if product in products.keys():\n",
        "  print(f'product: {product}, price: ${products[product]}')\n",
        "else:\n",
        "  print(f'{product} not found')\n"
      ],
      "metadata": {
        "colab": {
          "base_uri": "https://localhost:8080/"
        },
        "id": "K0el-X6bwCML",
        "outputId": "b2905fc5-1805-49fb-b780-63c52b1d2a67"
      },
      "execution_count": 1,
      "outputs": [
        {
          "output_type": "stream",
          "name": "stdout",
          "text": [
            "Enter product ID:P-01\n",
            "product: P-01, price: $9.95\n"
          ]
        }
      ]
    },
    {
      "cell_type": "code",
      "source": [
        "# Parking Garage pt 2: CalcFee function\n",
        "\n",
        "def hours(h):\n",
        "  fee = 5 + 2.5 * h\n",
        "  if fee < 10:\n",
        "    return 10.0\n",
        "  elif fee > 20:\n",
        "    return 20.0\n",
        "  else:\n",
        "    return fee\n",
        "\n",
        "def main():\n",
        "  user_hours = int(input('Enter number of hours for parking: '))\n",
        "  fee = hours(user_hours)\n",
        "  print(fee)\n",
        "\n",
        "if __name__ == \"__main__\":\n",
        "  main()"
      ],
      "metadata": {
        "colab": {
          "base_uri": "https://localhost:8080/"
        },
        "id": "RdrNec33jPOe",
        "outputId": "8025dfa9-51c5-4ca8-ebc1-db1954b2ca36"
      },
      "execution_count": 17,
      "outputs": [
        {
          "output_type": "stream",
          "name": "stdout",
          "text": [
            "Enter number of hours for parking: 3\n",
            "12.5\n"
          ]
        }
      ]
    },
    {
      "cell_type": "code",
      "source": [],
      "metadata": {
        "id": "j5P5qF3Xqf_y"
      },
      "execution_count": null,
      "outputs": []
    }
  ]
}