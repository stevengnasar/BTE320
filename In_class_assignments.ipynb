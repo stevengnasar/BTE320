{
  "nbformat": 4,
  "nbformat_minor": 0,
  "metadata": {
    "colab": {
      "provenance": [],
      "authorship_tag": "ABX9TyOfPKylgw4ODmR8wwsBL6e9",
      "include_colab_link": true
    },
    "kernelspec": {
      "name": "python3",
      "display_name": "Python 3"
    },
    "language_info": {
      "name": "python"
    }
  },
  "cells": [
    {
      "cell_type": "markdown",
      "metadata": {
        "id": "view-in-github",
        "colab_type": "text"
      },
      "source": [
        "<a href=\"https://colab.research.google.com/github/stevengnasar/BTE320/blob/main/In_class_assignments.ipynb\" target=\"_parent\"><img src=\"https://colab.research.google.com/assets/colab-badge.svg\" alt=\"Open In Colab\"/></a>"
      ]
    },
    {
      "cell_type": "code",
      "execution_count": 11,
      "metadata": {
        "colab": {
          "base_uri": "https://localhost:8080/"
        },
        "id": "sGbcJsmAg2dM",
        "outputId": "9300fe4a-805e-4ea2-8922-c17b2a0efdb4"
      },
      "outputs": [
        {
          "output_type": "stream",
          "name": "stdout",
          "text": [
            "Enter sales ($): 12000\n",
            "Sales = $ 12000.0\n",
            "Cost of Goods Sold = $ 4800.0\n",
            "Gross Profit = $ 7200.0\n"
          ]
        }
      ],
      "source": [
        "sales = float(input(\"Enter sales ($): \"))\n",
        "perc = .4\n",
        "CostofGoodsSold = sales * perc\n",
        "GrossProfit = sales - CostofGoodsSold\n",
        "\n",
        "print(\"Sales = $\",sales)\n",
        "print(\"Cost of Goods Sold = $\",CostofGoodsSold)\n",
        "print(\"Gross Profit = $\",GrossProfit)"
      ]
    },
    {
      "cell_type": "code",
      "source": [
        "# Inputs: sales and cogs_pct\n",
        "sales = input(\"Enter sales ($): \")\n",
        "sales = float(sales)\n",
        "\n",
        "cogs_pct = input(\"Enter Cost of Goods Sold (%): \")\n",
        "cogs_pct = float(cogs_pct)\n",
        "\n",
        "tax_pct = input(\"Enter Tax Rate (%): \")\n",
        "tax_pct = float(tax_pct)\n",
        "\n",
        "# Processes: calculate actual cost of goods sold\n",
        "\n",
        "cogs = sales * cogs_pct / 100\n",
        "GP = sales - cogs\n",
        "tax = GP * tax_pct / 100\n",
        "NI = GP - tax\n",
        "\n",
        "#Outputs: display cogs and gp\n",
        "\n",
        "print(f\"Sales: ${sales}\\nCost of Goods Sold: ${cogs}\\nGross Profit: ${GP}\\nTaxes: ${tax}\\nNet Income: {NI}\")"
      ],
      "metadata": {
        "colab": {
          "base_uri": "https://localhost:8080/"
        },
        "id": "xx9CYkj-jhjT",
        "outputId": "d1e2150f-2e24-4a4e-dfe7-9f3f904a9b7f"
      },
      "execution_count": 15,
      "outputs": [
        {
          "output_type": "stream",
          "name": "stdout",
          "text": [
            "Enter sales ($): 12000\n",
            "Enter Cost of Goods Sold (%): 40\n",
            "Enter Tax Rate (%): 30\n",
            "Sales: $12000.0\n",
            "Cost of Goods Sold: $4800.0\n",
            "Gross Profit: $7200.0\n",
            "Taxes: $2160.0\n",
            "Net Income: 5040.0\n"
          ]
        }
      ]
    },
    {
      "cell_type": "code",
      "source": [
        "#inputs\n",
        "D = float(input(\"Enter annual demand (units/year: \"))\n",
        "S = float(input(\"Reorder cost ($/order): \"))\n",
        "H = float(input(\"Holding cost ($/unit/year): \"))\n",
        "\n",
        "#processes\n",
        "EOQ = (2 * D * S / H) ** 0.5\n",
        "\n",
        "#output\n",
        "print(f\"Economic Order Quantity: {EOQ}\")\n"
      ],
      "metadata": {
        "colab": {
          "base_uri": "https://localhost:8080/"
        },
        "id": "0HpwbfLvKVDs",
        "outputId": "18726d42-db2c-441b-cc53-35530c92e5fb"
      },
      "execution_count": 13,
      "outputs": [
        {
          "output_type": "stream",
          "name": "stdout",
          "text": [
            "Enter annual demand (units/year: 100\n",
            "Reorder cost ($/order): 1.5\n",
            "Holding cost ($/unit/year): 3\n",
            "Economic Order Quantity: 10.0\n"
          ]
        }
      ]
    }
  ]
}