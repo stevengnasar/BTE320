{
  "nbformat": 4,
  "nbformat_minor": 0,
  "metadata": {
    "colab": {
      "provenance": [],
      "authorship_tag": "ABX9TyP20IXHvKQhxA6uqqZXBSFd",
      "include_colab_link": true
    },
    "kernelspec": {
      "name": "python3",
      "display_name": "Python 3"
    },
    "language_info": {
      "name": "python"
    }
  },
  "cells": [
    {
      "cell_type": "markdown",
      "metadata": {
        "id": "view-in-github",
        "colab_type": "text"
      },
      "source": [
        "<a href=\"https://colab.research.google.com/github/stevengnasar/BTE320/blob/main/In_class_assignments.ipynb\" target=\"_parent\"><img src=\"https://colab.research.google.com/assets/colab-badge.svg\" alt=\"Open In Colab\"/></a>"
      ]
    },
    {
      "cell_type": "code",
      "source": [
        "# Inputs: sales and cogs_pct\n",
        "sales = input(\"Enter sales ($): \")\n",
        "sales = float(sales)\n",
        "\n",
        "cogs_pct = input(\"Enter Cost of Goods Sold (%): \")\n",
        "cogs_pct = float(cogs_pct)\n",
        "\n",
        "tax_pct = input(\"Enter Tax Rate (%): \")\n",
        "tax_pct = float(tax_pct)\n",
        "\n",
        "# Processes: calculate actual cost of goods sold\n",
        "\n",
        "cogs = sales * cogs_pct / 100\n",
        "GP = sales - cogs\n",
        "tax = GP * tax_pct / 100\n",
        "NI = GP - tax\n",
        "\n",
        "#Outputs: display cogs and gp\n",
        "\n",
        "print(f\"Sales: ${sales}\\nCost of Goods Sold: ${cogs}\\nGross Profit: ${GP}\\nTaxes: ${tax}\\nNet Income: {NI}\")"
      ],
      "metadata": {
        "colab": {
          "base_uri": "https://localhost:8080/"
        },
        "id": "xx9CYkj-jhjT",
        "outputId": "d1e2150f-2e24-4a4e-dfe7-9f3f904a9b7f"
      },
      "execution_count": 15,
      "outputs": [
        {
          "output_type": "stream",
          "name": "stdout",
          "text": [
            "Enter sales ($): 12000\n",
            "Enter Cost of Goods Sold (%): 40\n",
            "Enter Tax Rate (%): 30\n",
            "Sales: $12000.0\n",
            "Cost of Goods Sold: $4800.0\n",
            "Gross Profit: $7200.0\n",
            "Taxes: $2160.0\n",
            "Net Income: 5040.0\n"
          ]
        }
      ]
    },
    {
      "cell_type": "code",
      "source": [
        "#inputs\n",
        "D = float(input(\"Enter annual demand (units/year: \"))\n",
        "S = float(input(\"Reorder cost ($/order): \"))\n",
        "H = float(input(\"Holding cost ($/unit/year): \"))\n",
        "\n",
        "#processes\n",
        "EOQ = (2 * D * S / H) ** 0.5\n",
        "\n",
        "#output\n",
        "print(f\"Economic Order Quantity: {EOQ}\")\n"
      ],
      "metadata": {
        "colab": {
          "base_uri": "https://localhost:8080/"
        },
        "id": "0HpwbfLvKVDs",
        "outputId": "18726d42-db2c-441b-cc53-35530c92e5fb"
      },
      "execution_count": 13,
      "outputs": [
        {
          "output_type": "stream",
          "name": "stdout",
          "text": [
            "Enter annual demand (units/year: 100\n",
            "Reorder cost ($/order): 1.5\n",
            "Holding cost ($/unit/year): 3\n",
            "Economic Order Quantity: 10.0\n"
          ]
        }
      ]
    },
    {
      "cell_type": "code",
      "source": [
        "#inputs\n",
        "one = float(input(\"Enter first number: \"))\n",
        "two = float(input(\"Enter second number: \"))\n",
        "func = str(input(\"Enter function: \"))\n",
        "\n",
        "#processes and output\n",
        "\n",
        "if func == \"add\" or func == \"+\":\n",
        "  print(one + two)\n",
        "elif func == \"subtract\" or func == \"-\":\n",
        "  print(one - two)\n",
        "elif func == \"multiply\" or func == \"x\" or func == \"*\":\n",
        "  print(one * two)\n",
        "elif func == \"divide\" or func == \"/\":\n",
        "  print(one / two)\n",
        "elif func == \"//\":\n",
        "  print(one // two)\n",
        "elif func == \"**\":\n",
        "  print(one ** two)\n",
        "elif func == \"%\":\n",
        "  print(one % two)\n",
        "else:\n",
        "  print(\"please input valid function\")\n"
      ],
      "metadata": {
        "colab": {
          "base_uri": "https://localhost:8080/"
        },
        "id": "fYxVLwRZL5mr",
        "outputId": "65fbb090-b4f4-4981-cc8e-b21a31b3a4c3"
      },
      "execution_count": 11,
      "outputs": [
        {
          "output_type": "stream",
          "name": "stdout",
          "text": [
            "Enter first number: 50\n",
            "Enter second number: 15\n",
            "Enter function: %\n",
            "5.0\n"
          ]
        }
      ]
    },
    {
      "cell_type": "code",
      "source": [
        "print(\"Hours   Fee\")\n",
        "for hour in range(1,9):\n",
        "  fee = 5 + 2.5*(hour)\n",
        "  if fee < 10:\n",
        "    fee = 10.0\n",
        "  elif fee > 20:\n",
        "    fee = 20.0\n",
        "  print(f\"{hour}\\t{fee}\")\n",
        "\n",
        ""
      ],
      "metadata": {
        "colab": {
          "base_uri": "https://localhost:8080/"
        },
        "id": "1Ov-0UX9g8In",
        "outputId": "c11050d2-81be-49e4-cabe-8657a7d3d9c9"
      },
      "execution_count": 27,
      "outputs": [
        {
          "output_type": "stream",
          "name": "stdout",
          "text": [
            "Hours   Fee\n",
            "1\t10.0\n",
            "2\t10.0\n",
            "3\t12.5\n",
            "4\t15.0\n",
            "5\t17.5\n",
            "6\t20.0\n",
            "7\t20.0\n",
            "8\t20.0\n"
          ]
        }
      ]
    },
    {
      "cell_type": "code",
      "source": [],
      "metadata": {
        "id": "kbkUrI5Gsg6B"
      },
      "execution_count": null,
      "outputs": []
    }
  ]
}